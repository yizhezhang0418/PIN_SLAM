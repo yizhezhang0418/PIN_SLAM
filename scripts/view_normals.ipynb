{
 "cells": [
  {
   "cell_type": "code",
   "execution_count": 2,
   "metadata": {},
   "outputs": [],
   "source": [
    "from module import ply\n",
    "import open3d as o3d\n",
    "import numpy as np\n",
    "aa = ply.read_ply('/home/server/PIN_SLAM/data/wudasuidao/normal/30frame/1_cor.ply')\n",
    "\n",
    "points = np.vstack((aa['x'] , aa['y'], aa['z'])).T\n",
    "normals = np.vstack((aa['normal_x'] , aa['normal_y'], aa['normal_z'])).T\n"
   ]
  },
  {
   "cell_type": "code",
   "execution_count": 3,
   "metadata": {},
   "outputs": [],
   "source": [
    "pc_load=o3d.geometry.PointCloud()\n",
    "pc_load.points= o3d.utility.Vector3dVector(points)\n",
    "pc_load.normals = o3d.utility.Vector3dVector(normals)\n",
    "pc_load.orient_normals_towards_camera_location()\n",
    "o3d.visualization.draw_geometries([pc_load],\n",
    "                                # zoom=0.3412,\n",
    "                                # front=[0.4257, -0.2125, -0.8795],\n",
    "                                # lookat=[2.6172, 2.0475, 1.532],\n",
    "                                # up=[-0.0694, -0.9768, 0.2024],\n",
    "                                point_show_normal=True\n",
    "                                )"
   ]
  },
  {
   "cell_type": "code",
   "execution_count": 1,
   "metadata": {},
   "outputs": [
    {
     "name": "stdout",
     "output_type": "stream",
     "text": [
      "Jupyter environment detected. Enabling Open3D WebVisualizer.\n",
      "[Open3D INFO] WebRTC GUI backend enabled.\n",
      "[Open3D INFO] WebRTCWindowSystem: HTTP handshake server disabled.\n"
     ]
    },
    {
     "name": "stderr",
     "output_type": "stream",
     "text": [
      "Processing files:   5%|▍         | 13/279 [01:46<36:18,  8.19s/it]\n"
     ]
    },
    {
     "ename": "KeyboardInterrupt",
     "evalue": "",
     "output_type": "error",
     "traceback": [
      "\u001b[0;31m---------------------------------------------------------------------------\u001b[0m",
      "\u001b[0;31mKeyboardInterrupt\u001b[0m                         Traceback (most recent call last)",
      "Cell \u001b[0;32mIn[1], line 29\u001b[0m\n\u001b[1;32m     26\u001b[0m pc_load\u001b[38;5;241m.\u001b[39mpoints\u001b[38;5;241m=\u001b[39m o3d\u001b[38;5;241m.\u001b[39mutility\u001b[38;5;241m.\u001b[39mVector3dVector(points)\n\u001b[1;32m     27\u001b[0m pc_load\u001b[38;5;241m.\u001b[39mnormals \u001b[38;5;241m=\u001b[39m o3d\u001b[38;5;241m.\u001b[39mutility\u001b[38;5;241m.\u001b[39mVector3dVector(normals)\n\u001b[0;32m---> 29\u001b[0m \u001b[43mo3d\u001b[49m\u001b[38;5;241;43m.\u001b[39;49m\u001b[43mvisualization\u001b[49m\u001b[38;5;241;43m.\u001b[39;49m\u001b[43mdraw_geometries\u001b[49m\u001b[43m(\u001b[49m\u001b[43m[\u001b[49m\u001b[43mpc_load\u001b[49m\u001b[43m]\u001b[49m\u001b[43m,\u001b[49m\n\u001b[1;32m     30\u001b[0m \u001b[43m                                \u001b[49m\u001b[38;5;66;43;03m# zoom=0.3412,\u001b[39;49;00m\n\u001b[1;32m     31\u001b[0m \u001b[43m                                \u001b[49m\u001b[38;5;66;43;03m# front=[0.4257, -0.2125, -0.8795],\u001b[39;49;00m\n\u001b[1;32m     32\u001b[0m \u001b[43m                                \u001b[49m\u001b[38;5;66;43;03m# lookat=[2.6172, 2.0475, 1.532],\u001b[39;49;00m\n\u001b[1;32m     33\u001b[0m \u001b[43m                                \u001b[49m\u001b[38;5;66;43;03m# up=[-0.0694, -0.9768, 0.2024],\u001b[39;49;00m\n\u001b[1;32m     34\u001b[0m \u001b[43m                                \u001b[49m\u001b[43mpoint_show_normal\u001b[49m\u001b[38;5;241;43m=\u001b[39;49m\u001b[38;5;28;43;01mTrue\u001b[39;49;00m\n\u001b[1;32m     35\u001b[0m \u001b[43m                                \u001b[49m\u001b[43m)\u001b[49m\n",
      "\u001b[0;31mKeyboardInterrupt\u001b[0m: "
     ]
    }
   ],
   "source": [
    "import numpy as np\n",
    "import wandb\n",
    "import torch\n",
    "import pcl\n",
    "import open3d as o3d\n",
    "import time\n",
    "import os\n",
    "import argparse\n",
    "from tqdm import tqdm\n",
    "from module import ply\n",
    "\n",
    "directory_path = '/home/server/PIN_SLAM/data/wudasuidao/normal/10frame/ply_normalcorrect_dir_100_kout_15_knn_25'\n",
    "\n",
    "for filename in tqdm(os.listdir(directory_path), desc=\"Processing files\"):\n",
    "    file_path = os.path.join(directory_path, filename)\n",
    "    \n",
    "    # 检查是否为文件（而不是目录）\n",
    "    if os.path.isfile(file_path):\n",
    "        with open(file_path, 'r') as file:\n",
    "\n",
    "            aa = ply.read_ply(file_path)\n",
    "\n",
    "            points = np.vstack((aa['x'] , aa['y'], aa['z'])).T\n",
    "            normals = np.vstack((aa['normal_x'] , aa['normal_y'], aa['normal_z'])).T\n",
    "            pc_load=o3d.geometry.PointCloud()\n",
    "            pc_load.points= o3d.utility.Vector3dVector(points)\n",
    "            pc_load.normals = o3d.utility.Vector3dVector(normals)\n",
    "\n",
    "            o3d.visualization.draw_geometries([pc_load],\n",
    "                                            # zoom=0.3412,\n",
    "                                            # front=[0.4257, -0.2125, -0.8795],\n",
    "                                            # lookat=[2.6172, 2.0475, 1.532],\n",
    "                                            # up=[-0.0694, -0.9768, 0.2024],\n",
    "                                            point_show_normal=True\n",
    "                                            )"
   ]
  },
  {
   "cell_type": "code",
   "execution_count": 4,
   "metadata": {},
   "outputs": [
    {
     "ename": "ModuleNotFoundError",
     "evalue": "No module named 'open3d_tutorial'",
     "output_type": "error",
     "traceback": [
      "\u001b[0;31m---------------------------------------------------------------------------\u001b[0m",
      "\u001b[0;31mModuleNotFoundError\u001b[0m                       Traceback (most recent call last)",
      "Cell \u001b[0;32mIn[4], line 3\u001b[0m\n\u001b[1;32m      1\u001b[0m \u001b[38;5;28;01mimport\u001b[39;00m \u001b[38;5;21;01mopen3d\u001b[39;00m \u001b[38;5;28;01mas\u001b[39;00m \u001b[38;5;21;01mo3d\u001b[39;00m\n\u001b[1;32m      2\u001b[0m \u001b[38;5;28;01mimport\u001b[39;00m \u001b[38;5;21;01mnumpy\u001b[39;00m \u001b[38;5;28;01mas\u001b[39;00m \u001b[38;5;21;01mnp\u001b[39;00m\n\u001b[0;32m----> 3\u001b[0m \u001b[38;5;28;01mimport\u001b[39;00m \u001b[38;5;21;01mopen3d_tutorial\u001b[39;00m \u001b[38;5;28;01mas\u001b[39;00m \u001b[38;5;21;01mo3dtut\u001b[39;00m\n\u001b[1;32m      5\u001b[0m gt_mesh \u001b[38;5;241m=\u001b[39m o3dtut\u001b[38;5;241m.\u001b[39mget_bunny_mesh()\n\u001b[1;32m      6\u001b[0m pcd \u001b[38;5;241m=\u001b[39m gt_mesh\u001b[38;5;241m.\u001b[39msample_points_poisson_disk(\u001b[38;5;241m5000\u001b[39m)\n",
      "\u001b[0;31mModuleNotFoundError\u001b[0m: No module named 'open3d_tutorial'"
     ]
    }
   ],
   "source": [
    "import open3d as o3d\n",
    "import numpy as np\n",
    "import open3d_tutorial as o3dtut\n",
    "\n",
    "gt_mesh = o3dtut.get_bunny_mesh()\n",
    "pcd = gt_mesh.sample_points_poisson_disk(5000)\n",
    "pcd.normals = o3d.utility.Vector3dVector(np.zeros(\n",
    "    (1, 3)))  # invalidate existing normals\n",
    "\n",
    "pcd.estimate_normals()\n",
    "o3d.visualization.draw_geometries([pcd], point_show_normal=True)\n",
    "\n",
    "\n",
    "pcd.orient_normals_consistent_tangent_plane(100)\n",
    "o3d.visualization.draw_geometries([pcd], point_show_normal=True)\n"
   ]
  }
 ],
 "metadata": {
  "kernelspec": {
   "display_name": "pin",
   "language": "python",
   "name": "python3"
  },
  "language_info": {
   "codemirror_mode": {
    "name": "ipython",
    "version": 3
   },
   "file_extension": ".py",
   "mimetype": "text/x-python",
   "name": "python",
   "nbconvert_exporter": "python",
   "pygments_lexer": "ipython3",
   "version": "3.8.18"
  }
 },
 "nbformat": 4,
 "nbformat_minor": 2
}
