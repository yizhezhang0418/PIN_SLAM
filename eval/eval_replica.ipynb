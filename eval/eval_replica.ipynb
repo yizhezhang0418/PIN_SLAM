{
 "cells": [
  {
   "cell_type": "markdown",
   "metadata": {},
   "source": [
    "# PIN-SLAM running on the Replica RGB-D dataset\n",
    "The aim of this notebook is to serve as a reproducible entry point for the experiments outlined in the paper.\n",
    "\n",
    "To directly run this notebook without changing path, you need to put it in the parent directory of `eval`.\n",
    "\n",
    "Please download the dataset by this [script](https://github.com/PRBonn/PIN_SLAM/blob/main/scripts/download_replica.sh) and use this [script](https://github.com/PRBonn/PIN_SLAM/blob/main/scripts/convert_replica.sh) to convert to the desired format for PIN-SLAM. \n",
    "\n",
    "Note: the results are slightly different using different random seeds and different hardwares.\n",
    "\n"
   ]
  },
  {
   "cell_type": "code",
   "execution_count": null,
   "metadata": {},
   "outputs": [],
   "source": [
    "import pin_slam\n",
    "import torch\n",
    "from IPython.display import display_markdown\n",
    "\n",
    "print('Device used:', torch.cuda.get_device_name(0))\n",
    "\n",
    "rmse_list = []\n",
    "seq_list = ['room0', 'room1', 'room2', 'office0', 'office1', 'office2', 'office3', 'office4']\n",
    "for seq_str in seq_list:\n",
    "    print('Now evaluate sequence '+ seq_str)\n",
    "    seq_results = pin_slam.run_pin_slam('./config/rgbd_slam/run_replica.yaml', 'replica', seq_str)\n",
    "    rmse_list.append(seq_results[0]['Absoulte Trajectory Error [m]'])\n",
    "\n",
    "rmse_mean_cm = sum(rmse_list)/len(rmse_list)*100.0\n",
    "table_results = f\"# Experiment Results (Replica dataset) \\n|Metric|Value|\\n|-:|:-|\\n\"\n",
    "rmse_key = 'Absoulte Trajectory Error [cm]'\n",
    "table_results += f\"|{rmse_key}|{rmse_mean_cm:.2f}|\\n\"\n",
    "display_markdown(table_results, raw=True)\n"
   ]
  }
 ],
 "metadata": {
  "interpreter": {
   "hash": "23ab7127a0bd204976f8870b5ba7b53bf3b662fb0566b25d6a446c21e6a7408b"
  },
  "kernelspec": {
   "display_name": "Python 3.8.17 ('pin')",
   "language": "python",
   "name": "python3"
  },
  "language_info": {
   "codemirror_mode": {
    "name": "ipython",
    "version": 3
   },
   "file_extension": ".py",
   "mimetype": "text/x-python",
   "name": "python",
   "nbconvert_exporter": "python",
   "pygments_lexer": "ipython3",
   "version": "3.8.19"
  },
  "orig_nbformat": 4
 },
 "nbformat": 4,
 "nbformat_minor": 2
}
