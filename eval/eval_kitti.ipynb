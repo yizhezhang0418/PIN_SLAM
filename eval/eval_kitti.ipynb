{
 "cells": [
  {
   "cell_type": "markdown",
   "metadata": {},
   "source": [
    "# PIN-SLAM running on the KITTI-Odometry benchmark dataset\n",
    "The aim of this notebook is to serve as a reproducible entry point for the experiments outlined in the paper.\n",
    "\n",
    "This notebook is inspired by [KISS-ICP](https://nbviewer.org/github/nachovizzo/kiss-icp/blob/main/evaluation/kitti.ipynb).\n",
    "\n",
    "Please download the dataset from [here](https://www.cvlibs.net/datasets/kitti/eval_odometry.php).\n",
    "\n",
    "To directly run this notebook without changing path, you need to put it in the parent directory of `eval`.\n",
    "\n",
    "Note: the results are slightly different using different random seeds and different hardwares."
   ]
  },
  {
   "cell_type": "code",
   "execution_count": null,
   "metadata": {},
   "outputs": [],
   "source": [
    "import pin_slam\n",
    "from eval.eval_traj_utils import get_metrics, mean_metrics\n",
    "import torch\n",
    "from IPython.display import display_markdown\n",
    "\n",
    "print('Device used:', torch.cuda.get_device_name(0))\n",
    "\n",
    "metrics_dicts = []\n",
    "for seq in range(11):\n",
    "    seq_str = f'{seq:02d}'\n",
    "    print('Now evaluate sequence '+ seq_str)\n",
    "    seq_results = pin_slam.run_pin_slam('./config/lidar_slam/run_kitti.yaml', 'kitti', seq_str)\n",
    "    metrics_dict = get_metrics(seq_results)\n",
    "    metrics_dicts.append(metrics_dict)\n",
    "\n",
    "metric_mean = mean_metrics(metrics_dicts)\n",
    "table_results = f\"# Experiment Results (KITTI dataset) \\n|Metric|Value|\\n|-:|:-|\\n\"\n",
    "for metric, result in metric_mean.items():\n",
    "    table_results += f\"|{metric}|{result:.2f}|\\n\"\n",
    "display_markdown(table_results, raw=True)"
   ]
  }
 ],
 "metadata": {
  "interpreter": {
   "hash": "916dbcbb3f70747c44a77c7bcd40155683ae19c65e1c03b4aa3499c5328201f1"
  },
  "kernelspec": {
   "display_name": "Python 3.8.10 64-bit",
   "language": "python",
   "name": "python3"
  },
  "language_info": {
   "codemirror_mode": {
    "name": "ipython",
    "version": 3
   },
   "file_extension": ".py",
   "mimetype": "text/x-python",
   "name": "python",
   "nbconvert_exporter": "python",
   "pygments_lexer": "ipython3",
   "version": "3.8.19"
  },
  "orig_nbformat": 4
 },
 "nbformat": 4,
 "nbformat_minor": 2
}
