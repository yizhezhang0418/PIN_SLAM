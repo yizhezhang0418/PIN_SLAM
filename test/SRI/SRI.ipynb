{
 "cells": [
  {
   "cell_type": "code",
   "execution_count": 56,
   "metadata": {},
   "outputs": [],
   "source": [
    "import numpy as np\n",
    "import wandb\n",
    "import torch\n",
    "import pcl\n",
    "import open3d as o3d\n",
    "import time\n",
    "import os\n",
    "import argparse\n",
    "from tqdm import tqdm\n",
    "import math"
   ]
  },
  {
   "cell_type": "code",
   "execution_count": 57,
   "metadata": {},
   "outputs": [],
   "source": [
    "filepath = \"/home/server/PIN_SLAM/data/wudasuidao/1.ply\"\n",
    "pc_load = o3d.io.read_point_cloud(filepath)\n",
    "\n",
    "\n",
    "coordinate_frame = o3d.geometry.TriangleMesh.create_coordinate_frame(size=10, origin=[0, 0, 0])\n",
    "o3d.visualization.draw_geometries([pc_load, coordinate_frame],\n",
    "                                # zoom=0.3412,\n",
    "                                # front=[0.4257, -0.2125, -0.8795],\n",
    "                                # lookat=[2.6172, 2.0475, 1.532],\n",
    "                                # up=[-0.0694, -0.9768, 0.2024],\n",
    "                                point_show_normal=False\n",
    "                                )"
   ]
  },
  {
   "cell_type": "code",
   "execution_count": 58,
   "metadata": {},
   "outputs": [],
   "source": [
    "## Mid-70 的圆形视场角在水平和垂直方向上均可达 70.4 度\n",
    "# 70.4° 圆形\n",
    "# 光束发射角度\n",
    "# 0.28° (竖直) × 0.03° (水平)\n",
    "ver_res = 0.28\n",
    "hor_res = 0.03\n",
    "vertical = math.ceil(70.4 / 0.28) # elevation,fai\n",
    "horizon = math.ceil(70.4 / 0.03) # azimuth,theta\n",
    "depth_image = np.zeros(shape=(horizon, vertical)) # 创建深度图s(fai, theta) = r [2347,252]"
   ]
  },
  {
   "cell_type": "code",
   "execution_count": 59,
   "metadata": {},
   "outputs": [],
   "source": [
    "points = np.asarray(pc_load.points) # 点云\n",
    "r = np.linalg.norm(points, axis=1)\n",
    "\n",
    "u = ((np.pi - np.arctan2(points[:,1], points[:,0])) * 180 / np.pi) / hor_res\n",
    "v = (35.2 - np.arctan2(points[:,2], np.sqrt(np.sum(points[:, :2] ** 2, axis=1)))*180/np.pi) / ver_res"
   ]
  },
  {
   "cell_type": "code",
   "execution_count": 66,
   "metadata": {},
   "outputs": [],
   "source": [
    "a= np.round(u).astype(int)"
   ]
  },
  {
   "cell_type": "code",
   "execution_count": 67,
   "metadata": {},
   "outputs": [
    {
     "ename": "IndexError",
     "evalue": "index 2663 is out of bounds for axis 0 with size 2347",
     "output_type": "error",
     "traceback": [
      "\u001b[0;31m---------------------------------------------------------------------------\u001b[0m",
      "\u001b[0;31mIndexError\u001b[0m                                Traceback (most recent call last)",
      "Cell \u001b[0;32mIn[67], line 1\u001b[0m\n\u001b[0;32m----> 1\u001b[0m \u001b[43mdepth_image\u001b[49m\u001b[43m[\u001b[49m\u001b[43mnp\u001b[49m\u001b[38;5;241;43m.\u001b[39;49m\u001b[43mround\u001b[49m\u001b[43m(\u001b[49m\u001b[43mu\u001b[49m\u001b[43m)\u001b[49m\u001b[38;5;241;43m.\u001b[39;49m\u001b[43mastype\u001b[49m\u001b[43m(\u001b[49m\u001b[38;5;28;43mint\u001b[39;49m\u001b[43m)\u001b[49m\u001b[43m,\u001b[49m\u001b[43m \u001b[49m\u001b[43mnp\u001b[49m\u001b[38;5;241;43m.\u001b[39;49m\u001b[43mround\u001b[49m\u001b[43m(\u001b[49m\u001b[43mv\u001b[49m\u001b[43m)\u001b[49m\u001b[38;5;241;43m.\u001b[39;49m\u001b[43mastype\u001b[49m\u001b[43m(\u001b[49m\u001b[38;5;28;43mint\u001b[39;49m\u001b[43m)\u001b[49m\u001b[43m]\u001b[49m \u001b[38;5;241m=\u001b[39m r\n",
      "\u001b[0;31mIndexError\u001b[0m: index 2663 is out of bounds for axis 0 with size 2347"
     ]
    }
   ],
   "source": [
    "depth_image[np.round(u).astype(int), np.round(v).astype(int)] = r"
   ]
  },
  {
   "cell_type": "code",
   "execution_count": 42,
   "metadata": {},
   "outputs": [],
   "source": [
    "# points = np.asarray(pc_load.points) # 点云\n",
    "# r = np.linalg.norm(points, axis=1)\n",
    "\n",
    "# fai = np.arcsin(points[:,1]/r[:]) * 180 / np.pi # arcsin(y/r)\n",
    "# theta = np.pi - np.arctan2(points[:,0], points[:,2]) * 180 / np.pi  # arctan(x/z)\n",
    "# fai_v = fai / 0.28\n",
    "# theta_u = theta / 0.03"
   ]
  },
  {
   "cell_type": "code",
   "execution_count": null,
   "metadata": {},
   "outputs": [],
   "source": [
    "depth_image(theta, fai) = r"
   ]
  }
 ],
 "metadata": {
  "kernelspec": {
   "display_name": "pin",
   "language": "python",
   "name": "python3"
  },
  "language_info": {
   "codemirror_mode": {
    "name": "ipython",
    "version": 3
   },
   "file_extension": ".py",
   "mimetype": "text/x-python",
   "name": "python",
   "nbconvert_exporter": "python",
   "pygments_lexer": "ipython3",
   "version": "3.8.18"
  }
 },
 "nbformat": 4,
 "nbformat_minor": 2
}
