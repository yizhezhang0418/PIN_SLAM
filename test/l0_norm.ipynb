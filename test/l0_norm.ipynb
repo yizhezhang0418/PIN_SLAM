{
 "cells": [
  {
   "cell_type": "code",
   "execution_count": 2,
   "metadata": {},
   "outputs": [],
   "source": [
    "%reset"
   ]
  },
  {
   "cell_type": "code",
   "execution_count": 3,
   "metadata": {},
   "outputs": [],
   "source": [
    "import numpy as np\n",
    "import wandb\n",
    "import torch\n",
    "import pcl\n",
    "import open3d as o3d\n",
    "import time\n",
    "\n",
    "filepath = \"/home/server/PIN_SLAM/data/wudasuidao/normal/30frame/1.ply\"\n",
    "pc_load = o3d.io.read_point_cloud(filepath)\n",
    "# origin_points = np.asarray(pc_load.points)\n",
    "\n",
    "# pc_load.paint_uniform_color([0, 0, 1.0])  # 渲染颜色\n",
    "point1 = np.asarray(pc_load.points)\n",
    "normals = np.asarray(pc_load.normals)\n",
    "\n",
    "\n",
    "# normals = np.asarray(pc_load.normals)\n",
    "\n",
    "o3d.visualization.draw_geometries([pc_load],\n",
    "                                # zoom=0.3412,\n",
    "                                # front=[0.4257, -0.2125, -0.8795],\n",
    "                                # lookat=[2.6172, 2.0475, 1.532],\n",
    "                                # up=[-0.0694, -0.9768, 0.2024],\n",
    "                                point_show_normal=True\n",
    "                                )"
   ]
  },
  {
   "cell_type": "code",
   "execution_count": 41,
   "metadata": {},
   "outputs": [],
   "source": [
    "o3d.visualization.draw_geometries([pc_load],\n",
    "#                                 zoom=0.3412,\n",
    "#                                 front=[0.4257, -0.2125, -0.8795],\n",
    "#                                 lookat=[2.6172, 2.0475, 1.532],\n",
    "#                                 up=[-0.0694, -0.9768, 0.2024],\n",
    "                                point_show_normal=True\n",
    "                                )"
   ]
  },
  {
   "cell_type": "markdown",
   "metadata": {},
   "source": [
    "# 法向量估计（knn + radius）"
   ]
  },
  {
   "cell_type": "code",
   "execution_count": 4,
   "metadata": {},
   "outputs": [],
   "source": [
    "# 剔除近邻点少的点，相当于作了一次radius剔除\n",
    "# parameters\n",
    "k_out = 30\n",
    "radius_out = 3\n",
    "pc_load, ind = pc_load.remove_radius_outlier(nb_points=k_out, radius=radius_out) # cl是pointcloud ind是剩下的点的索引\n",
    "# pc_load, idx = pc_load.remove_statistical_outlier(nb_neighbors=k, std_ratio=3, print_progress=False)\n"
   ]
  },
  {
   "cell_type": "code",
   "execution_count": 8,
   "metadata": {},
   "outputs": [
    {
     "name": "stdout",
     "output_type": "stream",
     "text": [
      "Time cost:0.48326897621154785\n"
     ]
    },
    {
     "ename": "AttributeError",
     "evalue": "module 'open3d.cuda.pybind.geometry' has no attribute 'orient_normals_to_align_with_direction'",
     "output_type": "error",
     "traceback": [
      "\u001b[0;31m---------------------------------------------------------------------------\u001b[0m",
      "\u001b[0;31mAttributeError\u001b[0m                            Traceback (most recent call last)",
      "Cell \u001b[0;32mIn[8], line 33\u001b[0m\n\u001b[1;32m     30\u001b[0m old_normals \u001b[38;5;241m=\u001b[39m np\u001b[38;5;241m.\u001b[39mcopy(normals)\n\u001b[1;32m     32\u001b[0m \u001b[38;5;66;03m# pc_load.orient_normals_to_align_with_direction(camera_location=np.array([0.0, 0.0, 0.0]))\u001b[39;00m\n\u001b[0;32m---> 33\u001b[0m \u001b[43mo3d\u001b[49m\u001b[38;5;241;43m.\u001b[39;49m\u001b[43mgeometry\u001b[49m\u001b[38;5;241;43m.\u001b[39;49m\u001b[43morient_normals_to_align_with_direction\u001b[49m(pc_load, camera_location\u001b[38;5;241m=\u001b[39mnp\u001b[38;5;241m.\u001b[39marray([\u001b[38;5;241m0.0\u001b[39m, \u001b[38;5;241m0.0\u001b[39m, \u001b[38;5;241m0.0\u001b[39m]))\n\u001b[1;32m     35\u001b[0m o3d\u001b[38;5;241m.\u001b[39mvisualization\u001b[38;5;241m.\u001b[39mdraw_geometries([pc_load],\n\u001b[1;32m     36\u001b[0m                                 \u001b[38;5;66;03m# zoom=0.3412,\u001b[39;00m\n\u001b[1;32m     37\u001b[0m                                 \u001b[38;5;66;03m# front=[0.4257, -0.2125, -0.8795],\u001b[39;00m\n\u001b[1;32m     38\u001b[0m                                 \u001b[38;5;66;03m# lookat=[2.6172, 2.0475, 1.532],\u001b[39;00m\n\u001b[1;32m     39\u001b[0m                                 \u001b[38;5;66;03m# up=[-0.0694, -0.9768, 0.2024],\u001b[39;00m\n\u001b[1;32m     40\u001b[0m                                 point_show_normal\u001b[38;5;241m=\u001b[39m\u001b[38;5;28;01mTrue\u001b[39;00m)\n",
      "\u001b[0;31mAttributeError\u001b[0m: module 'open3d.cuda.pybind.geometry' has no attribute 'orient_normals_to_align_with_direction'"
     ]
    }
   ],
   "source": [
    "k = 20\n",
    "radius = 0.3\n",
    "pc_load.estimate_normals(\n",
    "    # search_param=o3d.geometry.KDTreeSearchParamHybrid(radius = radius, max_nn = k)\n",
    "    search_param=o3d.geometry.KDTreeSearchParamKNN(knn = k)\n",
    ")\n",
    "# pc_load.orient_normals_towards_camera_location(camera_location=np.array([0.0, 0.0, 0.0]))\n",
    "neighbors_normal_index={}\n",
    "\n",
    "## neighbors_normal_index\n",
    "kdtree = o3d.geometry.KDTreeFlann(pc_load)\n",
    "\n",
    "T1 = time.time()\n",
    "origin_points = np.asarray(pc_load.points)\n",
    "\n",
    "# Only costs 1.11s-> 0.3s\n",
    "for i in range(len(pc_load.points)):\n",
    "    [a,idx,b] = kdtree.search_knn_vector_3d(pc_load.points[i], k)\n",
    "    neighbors_normal_index[i] = idx\n",
    "\n",
    "# kk = neighbors_normal_index[1][0]\n",
    "\n",
    "T2 = time.time()\n",
    "print(f\"Time cost:{T2-T1}\")\n",
    "\n",
    "normals = np.asarray(pc_load.normals)\n",
    "norms = np.linalg.norm(normals, axis=1, keepdims=True)\n",
    "# 归一化\n",
    "normals = normals / norms\n",
    "old_normals = np.copy(normals)\n",
    "\n",
    "# pc_load.orient_normals_towards_camera_location()\n",
    "pc_load.orient_normals_consistent_tangent_plane(100)\n",
    "\n",
    "\n",
    "o3d.visualization.draw_geometries([pc_load],\n",
    "                                # zoom=0.3412,\n",
    "                                # front=[0.4257, -0.2125, -0.8795],\n",
    "                                # lookat=[2.6172, 2.0475, 1.532],\n",
    "                                # up=[-0.0694, -0.9768, 0.2024],\n",
    "                                point_show_normal=True)"
   ]
  },
  {
   "cell_type": "markdown",
   "metadata": {},
   "source": [
    "# 法向量优化 myself"
   ]
  },
  {
   "cell_type": "code",
   "execution_count": 34,
   "metadata": {},
   "outputs": [
    {
     "name": "stdout",
     "output_type": "stream",
     "text": [
      "The iteration number is 1, the biggest diff is 1.341410664754473, beta is 0.05\n",
      "The iteration number is 2, the biggest diff is 0.9477380393092849, beta is 0.1\n",
      "The iteration number is 3, the biggest diff is 0.6775046570225257, beta is 0.2\n",
      "The iteration number is 4, the biggest diff is 0.48338427162227715, beta is 0.4\n",
      "The iteration number is 5, the biggest diff is 0.3513067861103475, beta is 0.8\n",
      "The iteration number is 6, the biggest diff is 0.24682163875800778, beta is 1.6\n",
      "The iteration number is 7, the biggest diff is 0.17536532505462968, beta is 3.2\n",
      "The iteration number is 8, the biggest diff is 0.1233723286857707, beta is 6.4\n",
      "The iteration number is 9, the biggest diff is 0.08745144965980622, beta is 12.8\n"
     ]
    }
   ],
   "source": [
    "n_hat = np.copy(normals)\n",
    "normals_temp = np.copy(normals)\n",
    "[point_num, dimension] = normals.shape\n",
    "\n",
    "diff_op = np.zeros((k * point_num, dimension))\n",
    "sita = np.ones((k * point_num, dimension))\n",
    "beta = 0.05 # 0.01\n",
    "nita = 0.10 # 0.05\n",
    "threshold = 0.1\n",
    "iternum = 0\n",
    "\n",
    "while np.max(np.abs(diff_op - sita)) > threshold:\n",
    "    iternum += 1\n",
    "    for i in range(point_num):\n",
    "        neighbor_indices = np.array(neighbors_normal_index[i])  # 获取第i个点的邻居索引\n",
    "        neighbor_normals = normals_temp[neighbor_indices]  # 直接获取所有邻居的法向量\n",
    "        diffs = normals_temp[i] - neighbor_normals  # 一次计算所有差值\n",
    "        diff_op[i*k:(i+1)*k] = diffs\n",
    "        \n",
    "        bb = np.sum(diffs**2, axis=1)\n",
    "        mask = (nita/beta > bb)\n",
    "        sita[i*k:(i+1)*k][mask] = 0\n",
    "        sita[i*k:(i+1)*k][~mask] = diffs[~mask]\n",
    "        \n",
    "        # 计算新的 normals[i] 值\n",
    "        normals[i] = (n_hat[i] + beta * np.sum(neighbor_normals + sita[i*k:(i+1)*k], axis=0)) / (1 + beta * k)\n",
    "    \n",
    "    normals_temp = np.copy(normals)\n",
    "\n",
    "\n",
    "    print(f\"The iteration number is {iternum}, the biggest diff is {np.max(np.abs(diff_op - sita))}, beta is {beta}\")\n",
    "    beta *= 2\n",
    "\n",
    "norms = np.linalg.norm(normals, axis=1, keepdims=True)\n",
    "normals /= norms  # 归一化\n"
   ]
  },
  {
   "cell_type": "code",
   "execution_count": 9,
   "metadata": {},
   "outputs": [],
   "source": [
    "pc_load.normals = o3d.utility.Vector3dVector(normals)\n",
    "\n",
    "o3d.visualization.draw_geometries([pc_load],\n",
    "                                zoom=0.3412,\n",
    "                                front=[0.4257, -0.2125, -0.8795],\n",
    "                                lookat=[2.6172, 2.0475, 1.532],\n",
    "                                up=[-0.0694, -0.9768, 0.2024],\n",
    "                                point_show_normal=True)\n"
   ]
  },
  {
   "cell_type": "code",
   "execution_count": 11,
   "metadata": {},
   "outputs": [],
   "source": [
    "array = np.hstack((pc_load.points, pc_load.normals))"
   ]
  },
  {
   "cell_type": "markdown",
   "metadata": {},
   "source": [
    "# PSS-BA least square"
   ]
  },
  {
   "cell_type": "code",
   "execution_count": null,
   "metadata": {},
   "outputs": [
    {
     "name": "stdout",
     "output_type": "stream",
     "text": [
      "The iteration number is 1 , the biggest diff is 1.264900210017501 , beta is 0.05\n",
      "The iteration number is 2 , the biggest diff is 0.8943048580169232 , beta is 0.1\n",
      "The iteration number is 3 , the biggest diff is 0.6324056548035415 , beta is 0.2\n",
      "The iteration number is 4 , the biggest diff is 0.44717045329851235 , beta is 0.4\n",
      "The iteration number is 5 , the biggest diff is 0.3161800464932658 , beta is 0.8\n",
      "The iteration number is 6 , the biggest diff is 0.2235375429060713 , beta is 1.6\n",
      "The iteration number is 7 , the biggest diff is 0.15800779126912823 , beta is 3.2\n",
      "The iteration number is 8 , the biggest diff is 0.11178282515574134 , beta is 6.4\n",
      "The iteration number is 9 , the biggest diff is 0.07900266442162951 , beta is 12.8\n",
      "The iteration number is 10 , the biggest diff is 0.05585170018030283 , beta is 25.6\n",
      "The iteration number is 11 , the biggest diff is 0.03946204616707005 , beta is 51.2\n",
      "The iteration number is 12 , the biggest diff is 0.0277789158675108 , beta is 102.4\n",
      "The iteration number is 13 , the biggest diff is 0.01921066941660643 , beta is 204.8\n",
      "The iteration number is 14 , the biggest diff is 0.0 , beta is 409.6\n"
     ]
    }
   ],
   "source": [
    "## step2: 构造optimization function\n",
    "n_hat = np.copy(normals)\n",
    "# iter_value = normals\n",
    "[point_num, dimesion] = normals.shape\n",
    "diff_op = np.zeros((k*point_num, 1))\n",
    "sita = np.ones((k*point_num, 1))\n",
    "beta = 0.05\n",
    "nita = 0.08 # 0.05-0.1\n",
    "threshold = 0.01\n",
    "iternum = 0\n",
    "aa = np.max(diff_op - sita)\n",
    "\n",
    "B = np.zeros((k,3))\n",
    "f = np.ones((k,1))\n",
    "\n",
    "while(np.abs(np.max(diff_op - sita)) > threshold):\n",
    "    iternum = iternum + 1\n",
    "    ## 第一个优化的解\n",
    "    for i in range(point_num):\n",
    "        for j in range(k):\n",
    "            diff_op[i*k+j] = 1 - np.dot(normals[i,:].T,normals[neighbors_normal_index[i][j],:])\n",
    "            bb = np.square(diff_op[i*k+j])\n",
    "            if (nita/beta > bb):\n",
    "                sita[i*k+j] = 0\n",
    "            else:\n",
    "                sita[i*k+j] = np.copy(diff_op[i*k+j])\n",
    "\n",
    "            B = -n_hat[i,:].reshape(-1,3) - beta * n_hat[neighbors_normal_index[i],:] # (1,3)-(k,3)\n",
    "            f[j,:] = 1\n",
    "        # 计算新的 normals[i] 值\n",
    "\n",
    "        normals[i] = ((np.linalg.inv(B.T @ B)) @ B.T @ f).T\n",
    "            \n",
    "\n",
    "    print(f\"The iteration number is {iternum} , the biggest diff is {np.abs(np.max(diff_op - sita))} , beta is {beta}\")\n",
    "    beta = 2 * beta\n",
    "\n",
    "norms = np.linalg.norm(normals, axis=1, keepdims=True)\n",
    "# 归一化\n",
    "normals = normals / norms"
   ]
  },
  {
   "cell_type": "markdown",
   "metadata": {},
   "source": [
    "# 点降噪"
   ]
  },
  {
   "cell_type": "code",
   "execution_count": 37,
   "metadata": {},
   "outputs": [
    {
     "name": "stdout",
     "output_type": "stream",
     "text": [
      "The iteration number is 1 , the biggest diff is 1.2646627174738052 , delta is 0.005\n",
      "The iteration number is 2 , the biggest diff is 0.8942334088408712 , delta is 0.01\n",
      "The iteration number is 3 , the biggest diff is 0.6231808104524139 , delta is 0.02\n",
      "The iteration number is 4 , the biggest diff is 0.4466751658616845 , delta is 0.04\n",
      "The iteration number is 5 , the biggest diff is 0.3157877811830476 , delta is 0.08\n",
      "The iteration number is 6 , the biggest diff is 0.22344069747220302 , delta is 0.16\n",
      "The iteration number is 7 , the biggest diff is 0.15808646560787723 , delta is 0.32\n",
      "The iteration number is 8 , the biggest diff is 0.11178110088097201 , delta is 0.64\n",
      "The iteration number is 9 , the biggest diff is 0.07894166771829043 , delta is 1.28\n",
      "The iteration number is 10 , the biggest diff is 0.05588982705518825 , delta is 2.56\n",
      "The iteration number is 11 , the biggest diff is 0.039526798219989466 , delta is 5.12\n",
      "The iteration number is 12 , the biggest diff is 0.02793880965217967 , delta is 10.24\n",
      "The iteration number is 13 , the biggest diff is 0.019764157829668495 , delta is 20.48\n",
      "The iteration number is 14 , the biggest diff is 0.013975216670937431 , delta is 40.96\n",
      "The iteration number is 15 , the biggest diff is 0.009882072797124622 , delta is 81.92\n"
     ]
    }
   ],
   "source": [
    "p_hat = np.copy(origin_points)\n",
    "points_iter = np.copy(origin_points)\n",
    "points_temp = np.copy(origin_points)\n",
    "normals # 优化后法向量\n",
    "k = 10\n",
    "\n",
    "neighbors_point={}\n",
    "for i in range(len(origin_points)):\n",
    "    [_,idx,_] = kdtree.search_knn_vector_3d(pc_load.points[i], k)\n",
    "    neighbors_point[i] = idx\n",
    "\n",
    "[point_num, dimesion] = origin_points.shape\n",
    "# diff_op_point = np.zeros((k*point_num, dimesion))\n",
    "kesai = np.ones((k*point_num, 1)) # 辅助变量\n",
    "DP_ikj = np.zeros((k*point_num, 1)) # 新的DP\n",
    "DP_ikj_pre = np.zeros((k*point_num, 1)) # 上一次迭代的，即DP～\n",
    "alpha = np.eye(point_num, dtype=float) # alpha对角阵\n",
    "delta = 0.005 # 0.002-0.008\n",
    "t = 0.008 # 辅助变量系数\n",
    "threshold = 0.01\n",
    "iternum = 0\n",
    "aa = np.max(diff_op - sita)\n",
    "\n",
    "while(np.abs(np.max(DP_ikj - kesai)) > threshold):\n",
    "    iternum = iternum + 1\n",
    "    ## 第一个优化的解\n",
    "    for i in range(point_num):\n",
    "        DP_ikj_pre = np.copy(DP_ikj) #存储上一次的\n",
    "        for j in range(k):\n",
    "            # diff_op_point[i*k+j,:] = (points_iter[i,:] - points_iter[neighbors_point[i][j],:])*normals[i,:]\n",
    "\n",
    "            # 这一次的Dp\n",
    "            DP_ikj[i*k+j] = np.dot(normals[i,:] ,(points_iter[i,:] - points_iter[neighbors_point[i][j],:]))\n",
    "            if (t/delta > np.square(DP_ikj[i*k+j])):\n",
    "                kesai[i*k+j] = 0\n",
    "            else:\n",
    "                kesai[i*k+j] = np.copy(DP_ikj[i*k+j])\n",
    "        \n",
    "        # for j in range(k):\n",
    "        #     alpha[i,i] = ((p_hat[i,:] + delta * ((points_iter[neighbors_point[i][j],:] + alpha[neighbors_point[i][j],neighbors_point[i][j]] * normals[neighbors_point[i][j],:])*normals[i,:] + kesai[i*k+j,:])) / (1 + delta * normals[i,:]) - points_iter[i,:]) / normals[i,:]\n",
    "\n",
    "        # DP_ikj_pre = np.copy(DP_ikj) #存储上一次的\n",
    "\n",
    "        for j in range(k):\n",
    "            term1 = np.dot((points_temp[i,:] - p_hat[i,:]) , normals[i,:])\n",
    "            term2 = delta * (DP_ikj_pre[i*k+j,:] - np.dot(normals[i,:],normals[neighbors_point[i][j],:])*alpha[neighbors_point[i][j],neighbors_point[i][j]] - kesai[i*k+j])\n",
    "            term3 = np.dot(normals[i,:], normals[i,:]) + delta\n",
    "            alpha[i,i] = -1 * (term1+term2) / term3\n",
    "        \n",
    "        points_iter[i,:] = points_temp[i,:] + alpha[i,i] * normals[i,:]\n",
    "    points_temp = np.copy(points_iter)\n",
    "\n",
    "    print(f\"The iteration number is {iternum} , the biggest diff is {np.abs(np.max(DP_ikj - kesai))} , delta is {delta}\")\n",
    "    delta = 2 * delta\n"
   ]
  },
  {
   "cell_type": "code",
   "execution_count": 42,
   "metadata": {},
   "outputs": [],
   "source": [
    "pcd=o3d.geometry.PointCloud()\n",
    "pcd.points= o3d.utility.Vector3dVector(points_iter)\n",
    "pcd.normals = o3d.utility.Vector3dVector(normals)\n",
    "o3d.visualization.draw_geometries([pcd],\n",
    "                                zoom=0.3412,\n",
    "                                front=[0.4257, -0.2125, -0.8795],\n",
    "                                lookat=[2.6172, 2.0475, 1.532],\n",
    "                                up=[-0.0694, -0.9768, 0.2024],\n",
    "                                point_show_normal=False)\n",
    "\n",
    "## neighbors_normal_index"
   ]
  },
  {
   "cell_type": "code",
   "execution_count": null,
   "metadata": {},
   "outputs": [],
   "source": [
    "# This method use 13.76s\n",
    "# for i in range(len(origin_points)):\n",
    "#     # 对于每个点，找到其k个最近邻\n",
    "#     [_, idx, _] = kdtree.search_knn_vector_3d(pc_load.points[i], k)\n",
    "#     neighbors_normal_index[i] = idx  # 存储索引\n",
    "        \n",
    "#     # 提取近邻点的坐标\n",
    "#     neighbor_points = origin_points[idx, :]\n",
    "        \n",
    "#     # 计算协方差矩阵\n",
    "#     mean_vec = np.mean(neighbor_points, axis=0)\n",
    "#     cov_mat = (neighbor_points - mean_vec).T @ (neighbor_points - mean_vec) / len(idx)\n",
    "        \n",
    "#     # 计算特征值和特征向量\n",
    "#     eigen_values, eigen_vectors = np.linalg.eigh(cov_mat)\n",
    "        \n",
    "#     # 最小特征值对应的向量是法向量\n",
    "#     normal = eigen_vectors[:, np.argmin(eigen_values)]\n",
    "#     normals.append(normal)"
   ]
  },
  {
   "cell_type": "code",
   "execution_count": 4,
   "metadata": {},
   "outputs": [],
   "source": [
    "diffs = np.ones((20,3))\n",
    "diffs = np.array([1,1,1,1])"
   ]
  }
 ],
 "metadata": {
  "kernelspec": {
   "display_name": "pin",
   "language": "python",
   "name": "python3"
  },
  "language_info": {
   "codemirror_mode": {
    "name": "ipython",
    "version": 3
   },
   "file_extension": ".py",
   "mimetype": "text/x-python",
   "name": "python",
   "nbconvert_exporter": "python",
   "pygments_lexer": "ipython3",
   "version": "3.8.18"
  }
 },
 "nbformat": 4,
 "nbformat_minor": 2
}
