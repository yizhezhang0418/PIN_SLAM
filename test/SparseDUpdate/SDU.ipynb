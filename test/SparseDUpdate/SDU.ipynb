{
 "cells": [
  {
   "cell_type": "code",
   "execution_count": 1,
   "metadata": {},
   "outputs": [
    {
     "name": "stdout",
     "output_type": "stream",
     "text": [
      "Jupyter environment detected. Enabling Open3D WebVisualizer.\n",
      "[Open3D INFO] WebRTC GUI backend enabled.\n",
      "[Open3D INFO] WebRTCWindowSystem: HTTP handshake server disabled.\n"
     ]
    }
   ],
   "source": [
    "import numpy as np\n",
    "import wandb\n",
    "import torch\n",
    "import pcl\n",
    "import open3d as o3d\n",
    "import time"
   ]
  },
  {
   "cell_type": "code",
   "execution_count": 2,
   "metadata": {},
   "outputs": [],
   "source": [
    "filepath = \"/home/server/PIN_SLAM/data/wudasuidao/normal/30frame/1.ply\"\n",
    "pc_load = o3d.io.read_point_cloud(filepath)\n",
    "# origin_points = np.asarray(pc_load.points)\n",
    "\n",
    "# pc_load.paint_uniform_color([0, 0, 1.0])  # 渲染颜色\n",
    "point1 = np.asarray(pc_load.points)\n",
    "normals = np.asarray(pc_load.normals)\n",
    "\n",
    "\n",
    "# normals = np.asarray(pc_load.normals)\n",
    "\n",
    "o3d.visualization.draw_geometries([pc_load],\n",
    "                                # zoom=0.3412,\n",
    "                                # front=[0.4257, -0.2125, -0.8795],\n",
    "                                # lookat=[2.6172, 2.0475, 1.532],\n",
    "                                # up=[-0.0694, -0.9768, 0.2024],\n",
    "                                point_show_normal=True\n",
    "                                )"
   ]
  },
  {
   "cell_type": "code",
   "execution_count": null,
   "metadata": {},
   "outputs": [],
   "source": [
    "# 剔除近邻点少的点，相当于作了一次radius剔除\n",
    "# parameters\n",
    "k_out = 30\n",
    "radius_out = 3\n",
    "pc_load, ind = pc_load.remove_radius_outlier(nb_points=k_out, radius=radius_out) # cl是pointcloud ind是剩下的点的索引\n",
    "# pc_load, idx = pc_load.remove_statistical_outlier(nb_neighbors=k, std_ratio=3, print_progress=False)\n",
    "\n",
    "k = 20\n",
    "radius = 0.3\n",
    "pc_load.estimate_normals(\n",
    "    # search_param=o3d.geometry.KDTreeSearchParamHybrid(radius = radius, max_nn = k)\n",
    "    search_param=o3d.geometry.KDTreeSearchParamKNN(knn = k)\n",
    ")\n",
    "# pc_load.orient_normals_towards_camera_location(camera_location=np.array([0.0, 0.0, 0.0]))\n",
    "neighbors_normal_index={}\n",
    "\n",
    "## neighbors_normal_index\n",
    "kdtree = o3d.geometry.KDTreeFlann(pc_load)\n",
    "\n",
    "T1 = time.time()\n",
    "origin_points = np.asarray(pc_load.points)\n",
    "\n",
    "# Only costs 1.11s-> 0.3s\n",
    "for i in range(len(pc_load.points)):\n",
    "    [a,idx,b] = kdtree.search_knn_vector_3d(pc_load.points[i], k)\n",
    "    neighbors_normal_index[i] = idx\n",
    "\n",
    "# kk = neighbors_normal_index[1][0]\n",
    "\n",
    "T2 = time.time()\n",
    "print(f\"Time cost:{T2-T1}\")\n",
    "\n",
    "normals = np.asarray(pc_load.normals)\n",
    "norms = np.linalg.norm(normals, axis=1, keepdims=True)\n",
    "# 归一化\n",
    "normals = normals / norms\n",
    "old_normals = np.copy(normals)\n",
    "\n",
    "# pc_load.orient_normals_towards_camera_location()\n",
    "pc_load.orient_normals_consistent_tangent_plane(100)\n",
    "\n",
    "\n",
    "o3d.visualization.draw_geometries([pc_load],\n",
    "                                # zoom=0.3412,\n",
    "                                # front=[0.4257, -0.2125, -0.8795],\n",
    "                                # lookat=[2.6172, 2.0475, 1.532],\n",
    "                                # up=[-0.0694, -0.9768, 0.2024],\n",
    "                                point_show_normal=True)"
   ]
  }
 ],
 "metadata": {
  "kernelspec": {
   "display_name": "pin",
   "language": "python",
   "name": "python3"
  },
  "language_info": {
   "codemirror_mode": {
    "name": "ipython",
    "version": 3
   },
   "file_extension": ".py",
   "mimetype": "text/x-python",
   "name": "python",
   "nbconvert_exporter": "python",
   "pygments_lexer": "ipython3",
   "version": "3.8.18"
  }
 },
 "nbformat": 4,
 "nbformat_minor": 2
}
